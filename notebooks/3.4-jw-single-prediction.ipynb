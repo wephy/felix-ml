{
 "cells": [
  {
   "cell_type": "markdown",
   "metadata": {},
   "source": [
    "Reconstruction of the crystal with ICSD code 60966. Notably, this crystal has the space group P 4 3 2, of which it is the only one (in my dataset at least). In the model used, this space group (/crystal) was not in the training set, and so the model has not been trained on it. This notebook shows it predicting the diffraction pattern."
   ]
  },
  {
   "cell_type": "code",
   "execution_count": 1,
   "metadata": {},
   "outputs": [],
   "source": [
    "import os\n",
    "import sys\n",
    "import torch\n",
    "import cv2\n",
    "import matplotlib.pyplot as plt\n",
    "from matplotlib import gridspec\n",
    "import numpy as np\n",
    "from torchvision import transforms\n",
    "\n",
    "sys.path.append(os.path.abspath(os.path.join(\"..\")))"
   ]
  },
  {
   "cell_type": "code",
   "execution_count": 2,
   "metadata": {},
   "outputs": [],
   "source": [
    "from src.models.autoencoder import AELitModule\n",
    "\n",
    "data_dir = \"../data/FDP/\"\n",
    "sample_size = 1\n",
    "ICSD_codes = os.listdir(data_dir)\n",
    "chosen_codes = np.random.choice(ICSD_codes, sample_size)"
   ]
  },
  {
   "cell_type": "code",
   "execution_count": 13,
   "metadata": {},
   "outputs": [
    {
     "data": {
      "text/plain": [
       "True"
      ]
     },
     "execution_count": 13,
     "metadata": {},
     "output_type": "execute_result"
    }
   ],
   "source": [
    "run = \"logs/train/runs/40_dims\"\n",
    "\n",
    "epoch = 799\n",
    "# epochs_fakes = []\n",
    "code = 198269\n",
    "\n",
    "transform = transforms.ToTensor()\n",
    "structures = torch.stack(\n",
    "    [\n",
    "        transform(\n",
    "            np.load(\n",
    "                os.path.join(data_dir, ICSD_code, ICSD_code + \"_structure.npy\")\n",
    "            ).astype(np.float32)\n",
    "        )\n",
    "        for ICSD_code in [str(code)]\n",
    "    ]\n",
    ")\n",
    "patterns = torch.stack(\n",
    "    [\n",
    "        transform(\n",
    "            np.clip(\n",
    "                np.load(os.path.join(data_dir, ICSD_code, ICSD_code + \"_+0+0+0.npy\")),\n",
    "                0,\n",
    "                1,\n",
    "            ).astype(np.float32)\n",
    "        )\n",
    "        for ICSD_code in [str(code)]\n",
    "    ]\n",
    ")\n",
    "\n",
    "epoch = str(epoch).zfill(3)\n",
    "litmodule = AELitModule.load_from_checkpoint(\n",
    "    os.path.join(os.getcwd(), \"..\", run, \"checkpoints\", f\"epoch_{epoch}.ckpt\")\n",
    ")\n",
    "litmodule.eval()\n",
    "fakes = litmodule.model(structures.cuda())\n",
    "fakes = fakes.view(sample_size * 128, 128).detach().cpu().numpy()\n",
    "fake = 1 - fakes\n",
    "cv2.imwrite(\"fake.png\", 255 * fake)"
   ]
  }
 ],
 "metadata": {
  "kernelspec": {
   "display_name": "felix-ml",
   "language": "python",
   "name": "python3"
  },
  "language_info": {
   "codemirror_mode": {
    "name": "ipython",
    "version": 3
   },
   "file_extension": ".py",
   "mimetype": "text/x-python",
   "name": "python",
   "nbconvert_exporter": "python",
   "pygments_lexer": "ipython3",
   "version": "3.9.17"
  },
  "orig_nbformat": 4
 },
 "nbformat": 4,
 "nbformat_minor": 2
}
