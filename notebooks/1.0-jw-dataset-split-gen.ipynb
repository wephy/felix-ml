{
 "cells": [
  {
   "cell_type": "code",
   "execution_count": 39,
   "metadata": {},
   "outputs": [],
   "source": [
    "import os\n",
    "import sys\n",
    "import pathlib\n",
    "import torch\n",
    "import matplotlib.pyplot as plt\n",
    "import pandas as pd\n",
    "import seaborn as sns\n",
    "import numpy as np\n",
    "\n",
    "sys.path.append(os.path.abspath(os.path.join(\"..\")))\n",
    "\n",
    "from src.data.FDP_npy_1x128x128 import FDP"
   ]
  },
  {
   "cell_type": "code",
   "execution_count": 40,
   "metadata": {},
   "outputs": [],
   "source": [
    "df_space_groups = pd.read_csv(\"D:\\\\felix-ml\\\\data\\\\space_groups.csv\", index_col=\"ICSD_code\")"
   ]
  },
  {
   "cell_type": "code",
   "execution_count": null,
   "metadata": {},
   "outputs": [],
   "source": [
    "save_dir = \"splits\""
   ]
  },
  {
   "cell_type": "markdown",
   "metadata": {},
   "source": [
    "## random seeds"
   ]
  },
  {
   "cell_type": "code",
   "execution_count": 41,
   "metadata": {},
   "outputs": [],
   "source": [
    "indices = df_space_groups.index.tolist()\n",
    "for seed in range(5):\n",
    "    pathlib.Path(os.path.join(os.getcwd(), save_dir, f\"{seed}\")).mkdir(parents=True, exist_ok=True)\n",
    "\n",
    "    train, val, test = torch.utils.data.random_split(\n",
    "        indices, [0.8, 0.1, 0.1], torch.Generator().manual_seed(seed)\n",
    "        )\n",
    "    df = pd.DataFrame(list(train))\n",
    "    df.to_csv(os.path.join(os.getcwd(), save_dir, f\"{seed}\", \"train\"), index=False, header=False)\n",
    "    df = pd.DataFrame(list(val))\n",
    "    df.to_csv(os.path.join(os.getcwd(), save_dir, f\"{seed}\", \"val\"), index=False, header=False)\n",
    "    df = pd.DataFrame(list(test))\n",
    "    df.to_csv(os.path.join(os.getcwd(), save_dir, f\"{seed}\", \"test\"), index=False, header=False)\n"
   ]
  },
  {
   "cell_type": "markdown",
   "metadata": {},
   "source": [
    "## custom seeds"
   ]
  },
  {
   "cell_type": "markdown",
   "metadata": {},
   "source": [
    "exlcuding space groups"
   ]
  },
  {
   "cell_type": "code",
   "execution_count": 42,
   "metadata": {},
   "outputs": [],
   "source": [
    "for excluded in [\"F m -3 m\", \"P -4 3 n\", \"F -4 3 m\", \"I -4 3 d\", \"I -4 3 m\"]:\n",
    "    pathlib.Path(os.path.join(os.getcwd(), save_dir, excluded)).mkdir(parents=True, exist_ok=True)\n",
    "\n",
    "    train = df_space_groups.loc[df_space_groups[\"space_group\"] != \"F m -3 m\"].index.tolist()\n",
    "    val_test = df_space_groups.loc[df_space_groups[\"space_group\"] == \"F m -3 m\"].index.tolist()\n",
    "    val, test = torch.utils.data.random_split(\n",
    "        val_test, [0.5, 0.5], torch.Generator().manual_seed(0)\n",
    "    )\n",
    "    df = pd.DataFrame(list(train))\n",
    "    df.to_csv(os.path.join(os.getcwd(), save_dir, excluded, \"train\"), index=False, header=False)\n",
    "    df = pd.DataFrame(list(val))\n",
    "    df.to_csv(os.path.join(os.getcwd(), save_dir, excluded, \"val\"), index=False, header=False)\n",
    "    df = pd.DataFrame(list(test))\n",
    "    df.to_csv(os.path.join(os.getcwd(), save_dir, excluded, \"test\"), index=False, header=False)"
   ]
  }
 ],
 "metadata": {
  "kernelspec": {
   "display_name": "felix-ml",
   "language": "python",
   "name": "python3"
  },
  "language_info": {
   "codemirror_mode": {
    "name": "ipython",
    "version": 3
   },
   "file_extension": ".py",
   "mimetype": "text/x-python",
   "name": "python",
   "nbconvert_exporter": "python",
   "pygments_lexer": "ipython3",
   "version": "3.9.17"
  },
  "orig_nbformat": 4
 },
 "nbformat": 4,
 "nbformat_minor": 2
}
